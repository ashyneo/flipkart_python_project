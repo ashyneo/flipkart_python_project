{
 "cells": [
  {
   "cell_type": "code",
   "execution_count": 3,
   "id": "4aa0661e-d74b-42b3-be39-b9a6af23ef05",
   "metadata": {},
   "outputs": [],
   "source": [
    "# Split csv file into smaller chunks.\n",
    "\n",
    "import pandas as pd\n",
    "\n",
    "df = pd.read_csv(\"Dataset_SA.csv\")\n",
    "chunk_size = 50000\n",
    "for i in range(0, len(df), chunk_size):\n",
    "    df.iloc[i:i+chunk_size].to_csv(f\"flipkart_chunk_{i//chunk_size+1}.csv\", index = False)"
   ]
  },
  {
   "cell_type": "code",
   "execution_count": null,
   "id": "0986464b-9bab-41c5-b56e-4053453bf6ff",
   "metadata": {},
   "outputs": [],
   "source": []
  }
 ],
 "metadata": {
  "kernelspec": {
   "display_name": "Python 3 (ipykernel)",
   "language": "python",
   "name": "python3"
  },
  "language_info": {
   "codemirror_mode": {
    "name": "ipython",
    "version": 3
   },
   "file_extension": ".py",
   "mimetype": "text/x-python",
   "name": "python",
   "nbconvert_exporter": "python",
   "pygments_lexer": "ipython3",
   "version": "3.12.4"
  }
 },
 "nbformat": 4,
 "nbformat_minor": 5
}
